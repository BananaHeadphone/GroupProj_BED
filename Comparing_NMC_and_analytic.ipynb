{
 "cells": [
  {
   "cell_type": "code",
   "execution_count": 3,
   "id": "e77746ac-e014-40b4-b2b2-db90dbad6fb1",
   "metadata": {},
   "outputs": [],
   "source": [
    "import numpy as np\n",
    "import matplotlib.pyplot as plt\n",
    "import arviz as az\n",
    "from BayesianExperimentalDesign import BED\n",
    "from compute_distance import kl_divergence_gaussian_known_q, wasserstein_distance_deterministic\n",
    "from multiprocessing import freeze_support\n",
    "from IPython.display import display, clear_output\n",
    "%matplotlib inline\n",
    "np.random.seed(41)"
   ]
  },
  {
   "cell_type": "code",
   "execution_count": 4,
   "id": "58d952c6-861c-4ce6-8957-d9661db5e96a",
   "metadata": {},
   "outputs": [],
   "source": [
    "# Monte Carlo sampling parameters\n",
    "N = 12000 # Outer samples\n",
    "M = 12000 # Inner samples\n",
    "num_iter = 11\n",
    "\n",
    "num_dusts = 2\n",
    "num_airports = 15\n",
    "num_engines = 8\n",
    "\n",
    "x_real = np.random.multivariate_normal(np.array([4.5,5.5]), np.array([[0.8,0.02],[0.02,0.8]]), size=num_airports)\n",
    "x_real = np.abs(x_real)\n",
    "\n",
    "sigma_real = 0.001\n",
    "x_real_flat = x_real.reshape(num_dusts*num_airports)\n",
    "# Variance\n",
    "sigma = 0.25\n",
    "\n",
    "Acon = np.zeros(num_airports)\n",
    "Acon[0] = 1\n",
    "# Frequency matrix N_E * N_A\n",
    "for i in range(num_engines):\n",
    "    B = np.zeros(num_airports)\n",
    "    for j in range((i+1)//1+1):\n",
    "        B[j] = 1/((i+1)//1+1)\n",
    "    Acon = np.vstack((Acon, B))\n",
    "\n",
    "Acon = np.load('engine_airport_frequency.npy')\n",
    "\n",
    "Acon = np.array([np.random.permutation(row) for row in Acon])\n",
    "\n",
    "Acon = Acon / Acon.sum(axis=1, keepdims=True)\n",
    "\n",
    "mean = (Acon @ x_real)\n",
    "measure_noise = np.full_like(mean, 0)\n",
    "for i in range(500):\n",
    "    measure_noise  += np.random.normal(loc=np.full_like(mean, 0), scale=sigma_real)\n",
    "measureall = mean + measure_noise\n",
    "\n",
    "\n",
    "\n",
    "BEDmodel_optimal = BED(Acon, num_dusts, sigma)\n",
    "BEDmodel_random = BED(Acon, num_dusts, sigma)\n",
    "\n",
    "\n",
    "num_chosen = 1\n",
    "np.random.seed(2)\n",
    "prior_sigma = 4\n",
    "prior_mu = 5\n",
    "prior_samples =  np.random.normal(prior_mu, prior_sigma, size=(3000, num_dusts*num_airports))\n",
    "\n",
    "wd = np.zeros(30)\n",
    "kld = np.zeros(30)\n",
    "lwd = np.zeros(30)\n",
    "lkld = np.zeros(30)"
   ]
  },
  {
   "cell_type": "code",
   "execution_count": 5,
   "id": "ab3dea0d-a5eb-4f86-8e8b-164e9b5949a7",
   "metadata": {},
   "outputs": [
    {
     "data": {
      "text/plain": [
       "array([[4.77509167, 5.28100689],\n",
       "       [4.78640229, 4.72126223],\n",
       "       [4.92050896, 5.27160002],\n",
       "       [4.77088021, 5.28294274],\n",
       "       [4.58441264, 5.238074  ],\n",
       "       [4.88762739, 5.1998625 ],\n",
       "       [4.71503697, 5.47115032],\n",
       "       [4.83126741, 5.30855422]])"
      ]
     },
     "execution_count": 5,
     "metadata": {},
     "output_type": "execute_result"
    }
   ],
   "source": [
    "measureall"
   ]
  },
  {
   "cell_type": "code",
   "execution_count": 6,
   "id": "875a908b-03b6-4b71-85d8-6992abd90c95",
   "metadata": {
    "scrolled": true
   },
   "outputs": [
    {
     "data": {
      "image/png": "[encoded data removed]",
      "text/plain": [
       "<Figure size 1000x600 with 2 Axes>"
      ]
     },
     "metadata": {},
     "output_type": "display_data"
    }
   ],
   "source": [
    "plt.figure(figsize=(10, 6))\n",
    "plt.imshow(Acon, aspect='auto', cmap='viridis')\n",
    "plt.colorbar()\n",
    "plt.title(\"Frequency matrix\")\n",
    "plt.xlabel(\"Airport\")\n",
    "plt.ylabel(\"Engine\")\n",
    "plt.savefig('frequency_matrix.png', dpi=600, bbox_inches='tight')\n",
    "plt.show()"
   ]
  },
  {
   "cell_type": "code",
   "execution_count": null,
   "id": "2ae7bbbb-50bf-4e72-9180-c457a075aa8c",
   "metadata": {},
   "outputs": [
    {
     "name": "stderr",
     "output_type": "stream",
     "text": [
      "Computing EIG for each design: 100%|██████████| 8/8 [01:15<00:00,  9.48s/it]\n"
     ]
    },
    {
     "name": "stdout",
     "output_type": "stream",
     "text": [
      "Optimal engine subset for measurement: (4,)\n",
      "[array([[1.7363153]]), array([[2.58552666]]), array([[2.64718797]]), array([[1.72711112]]), array([[2.89693952]]), array([[1.72900969]]), array([[2.69383594]]), array([[1.6975825]])]\n"
     ]
    },
    {
     "data": {
      "application/vnd.jupyter.widget-view+json": {
       "model_id": "abf64d96deb946648b210e55434601d6",
       "version_major": 2,
       "version_minor": 0
      },
      "text/plain": [
       "Output()"
      ]
     },
     "metadata": {},
     "output_type": "display_data"
    },
    {
     "data": {
      "text/html": [
       "<pre style=\"white-space:pre;overflow-x:auto;line-height:normal;font-family:Menlo,'DejaVu Sans Mono',consolas,'Courier New',monospace\"></pre>\n"
      ],
      "text/plain": []
     },
     "metadata": {},
     "output_type": "display_data"
    },
    {
     "name": "stderr",
     "output_type": "stream",
     "text": [
      "Computing EIG for each design: 100%|██████████| 7/7 [02:04<00:00, 17.78s/it]\n"
     ]
    },
    {
     "name": "stdout",
     "output_type": "stream",
     "text": [
      "Optimal engine subset for measurement: (5,)\n",
      "[array([[1.54271317]]), array([[2.07928126]]), array([[2.56142458]]), array([[1.5866079]]), array([[1.49026685]]), array([[2.68473517]]), array([[1.47474505]])]\n"
     ]
    },
    {
     "data": {
      "application/vnd.jupyter.widget-view+json": {
       "model_id": "d92da2df9e864926b610b5d99fd202d9",
       "version_major": 2,
       "version_minor": 0
      },
      "text/plain": [
       "Output()"
      ]
     },
     "metadata": {},
     "output_type": "display_data"
    },
    {
     "data": {
      "text/html": [
       "<pre style=\"white-space:pre;overflow-x:auto;line-height:normal;font-family:Menlo,'DejaVu Sans Mono',consolas,'Courier New',monospace\"></pre>\n"
      ],
      "text/plain": []
     },
     "metadata": {},
     "output_type": "display_data"
    },
    {
     "name": "stderr",
     "output_type": "stream",
     "text": [
      "Computing EIG for each design: 100%|██████████| 6/6 [01:48<00:00, 18.14s/it]\n"
     ]
    },
    {
     "name": "stdout",
     "output_type": "stream",
     "text": [
      "Optimal engine subset for measurement: (2,)\n",
      "[array([[1.40685177]]), array([[2.03024541]]), array([[2.5666333]]), array([[1.14947235]]), array([[1.36364058]]), array([[1.2741774]])]\n"
     ]
    },
    {
     "ename": "ValueError",
     "evalue": "setting an array element with a sequence. The requested array has an inhomogeneous shape after 1 dimensions. The detected shape was (2,) + inhomogeneous part.",
     "output_type": "error",
     "traceback": [
      "\u001b[1;31m---------------------------------------------------------------------------\u001b[0m",
      "\u001b[1;31mValueError\u001b[0m                                Traceback (most recent call last)",
      "Cell \u001b[1;32mIn[7], line 31\u001b[0m\n\u001b[0;32m     29\u001b[0m \u001b[38;5;28mprint\u001b[39m(eigs)\n\u001b[0;32m     30\u001b[0m A_optimal \u001b[38;5;241m=\u001b[39m np\u001b[38;5;241m.\u001b[39mvstack([A_optimal, BEDmodel_optimal\u001b[38;5;241m.\u001b[39mA[opt_design,:]])\n\u001b[1;32m---> 31\u001b[0m measure \u001b[38;5;241m=\u001b[39m np\u001b[38;5;241m.\u001b[39marray(\u001b[43mmeasureall\u001b[49m\u001b[43m[\u001b[49m\u001b[43mopt_designs\u001b[49m\u001b[43m,\u001b[49m\u001b[43m:\u001b[49m\u001b[43m]\u001b[49m)\u001b[38;5;241m.\u001b[39mflatten()\n\u001b[0;32m     32\u001b[0m posteriordata \u001b[38;5;241m=\u001b[39m BEDmodel_optimal\u001b[38;5;241m.\u001b[39mdo_experiment(opt_design, measure, N, A_optimal) \n\u001b[0;32m     33\u001b[0m posteriordatav \u001b[38;5;241m=\u001b[39m posteriordata\u001b[38;5;241m.\u001b[39mposterior[\u001b[38;5;124m\"\u001b[39m\u001b[38;5;124mx\u001b[39m\u001b[38;5;124m\"\u001b[39m]\u001b[38;5;241m.\u001b[39mvalues\n",
      "\u001b[1;31mValueError\u001b[0m: setting an array element with a sequence. The requested array has an inhomogeneous shape after 1 dimensions. The detected shape was (2,) + inhomogeneous part."
     ]
    }
   ],
   "source": [
    "#20 mixture\n",
    "k_cumu = 0\n",
    "for k in [1]:\n",
    "    num_chosen = k \n",
    "    BEDmodel_optimal.A = Acon\n",
    "    BEDmodel_optimal.num_engines = BEDmodel_optimal.A.shape[0]\n",
    "\n",
    "    \n",
    "    opt_design, eigs = BEDmodel_optimal.initial_design(num_chosen, N, M)\n",
    "    opt_designs = opt_design\n",
    "    print(eigs)\n",
    "    #to be deleted\n",
    "    #opt_design = np.array([6])#np.random.choice(np.arange(0, num_engines), size=num_chosen, replace=False)\n",
    "    measure = np.array(measureall[opt_designs,:]).flatten()\n",
    "    posteriordata = BEDmodel_optimal.do_experiment(opt_design, measure, N)\n",
    "    posteriordatav = posteriordata.posterior[\"x\"].values\n",
    "    posteriordatav = posteriordatav.reshape(posteriordatav.shape[0] * posteriordatav.shape[1], num_dusts*num_airports)\n",
    "\n",
    "\n",
    "    A_optimal = BEDmodel_optimal.A[opt_design,:]\n",
    "    BEDmodel_optimal.A = np.delete(BEDmodel_optimal.A, opt_design, axis=0)\n",
    "    BEDmodel_optimal.num_engines = BEDmodel_optimal.A.shape[0]\n",
    "    \n",
    "\n",
    "    for i in range(1, 3):\n",
    "        xn_samples, xm_samples = BEDmodel_optimal.reuse_posterior_samples(posteriordata, 5000, 5000)\n",
    "        opt_design, eigs = BEDmodel_optimal.sequential_design(num_chosen, xn_samples, xm_samples)   \n",
    "        opt_designs = [opt_designs, opt_design]\n",
    "        print(eigs)\n",
    "        A_optimal = np.vstack([A_optimal, BEDmodel_optimal.A[opt_design,:]])\n",
    "        measure = np.array(measureall[opt_designs,:]).flatten()\n",
    "        posteriordata = BEDmodel_optimal.do_experiment(opt_design, measure, N, A_optimal) \n",
    "        posteriordatav = posteriordata.posterior[\"x\"].values\n",
    "        posteriordatav = posteriordatav.reshape(posteriordatav.shape[0] * posteriordatav.shape[1],\n",
    "                                                num_dusts*num_airports)\n",
    "\n",
    "        BEDmodel_optimal.A = np.delete(BEDmodel_optimal.A, opt_design, axis=0)\n",
    "        BEDmodel_optimal.num_engines = BEDmodel_optimal.A.shape[0]\n",
    "\n",
    "    k_cumu = int(num_engines/k) + k_cumu\n",
    "    \n",
    "plt.ioff()\n",
    "plt.show()\n"
   ]
  }
 ],
 "metadata": {
  "kernelspec": {
   "display_name": "Python (pymc_env)",
   "language": "python",
   "name": "pymc_env"
  },
  "language_info": {
   "codemirror_mode": {
    "name": "ipython",
    "version": 3
   },
   "file_extension": ".py",
   "mimetype": "text/x-python",
   "name": "python",
   "nbconvert_exporter": "python",
   "pygments_lexer": "ipython3",
   "version": "3.10.16"
  }
 },
 "nbformat": 4,
 "nbformat_minor": 5
}
